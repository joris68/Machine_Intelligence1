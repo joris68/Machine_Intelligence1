{
 "cells": [
  {
   "cell_type": "markdown",
   "metadata": {
    "id": "CbXHv5Lqi_f1"
   },
   "source": [
    "# Exercise Sheet 4 - Optimization 2\n",
    "\n",
    "Welcome to the first programming exercise.\n",
    "\n",
    "The programming homeworks are designed in a way that you will (a) gain a deeper understanding of the content discussed in the lecture, and (b) become familiar with [PyTorch](https://pytorch.org/), a common Python framework for implementing neural networks.\n",
    "\n",
    "Generally they will consist of a Jupyter notebook, accompanied with a `utils.py` file for utility functions, and optionally a dataset as a `.zip` or `.tar.gz` file. In the notebook there will be areas where you will have to write your own code. These areas are highlighted using comments. Do not change anything else in the notebook. If you feel there are mistakes or things that need to be changed or are unsure, use the Discussion forum in ISIS.\n",
    "\n",
    "We will assume that you have Python >= 3.9 and PyTorch 2.X installed on your machine."
   ]
  },
  {
   "cell_type": "markdown",
   "metadata": {
    "id": "XVajdfZGi7uu"
   },
   "source": [
    "# Dataset (MNIST)\n",
    "\n",
    "PyTorch offers various utility functions and classes for easing the process of managing datasets. Additionally to offering various standard datasets being loaded using built-in functions through the `torchvision` package, the most frequently used classes are probably the `Dataset` and `DataLoader` class, both included in the `torch.utils.data` module. The classes can be used to create own custom datasets which can then be easily integrated into standard training procedures.\n",
    "\n",
    "In this exercise we will use the built-in [MNIST](https://en.wikipedia.org/wiki/MNIST_database) dataset. For that you will have to install the [torchvision](https://pypi.org/project/torchvision/) package if not already installed.\n",
    "\n",
    "If you are interested how PyTorch datasets work internally, we recommend taking a look at [this guide](https://pytorch.org/tutorials/beginner/basics/data_tutorial.html#creating-a-custom-dataset-for-your-files).\n",
    "\n",
    "The `Dataset` class defines how to get the i-th item. For example, you could load your whole dataset into an array, and then simply retrieve the i-th row. Or if the dataset is too big, which is usually the case in deep learning settings, you might just store the path to your dataset files as a class variable, and then retrieve the i-th file using Python's built-in I/O function.\n",
    "\n",
    "The `DataLoader` class takes an input of type `Dataset`, along with various parameters on how that data set should be loaded. Most commonly you will set the batch size and whether the data should be shuffled or not."
   ]
  },
  {
   "cell_type": "code",
   "execution_count": null,
   "metadata": {
    "colab": {
     "base_uri": "https://localhost:8080/",
     "height": 1000
    },
    "executionInfo": {
     "elapsed": 25911,
     "status": "ok",
     "timestamp": 1730970682451,
     "user": {
      "displayName": "Marco Rosinus Serrano",
      "userId": "05344009772154694250"
     },
     "user_tz": -60
    },
    "id": "9d74TXUQhtL6",
    "outputId": "dc0ae911-4a9e-4d68-8e45-44ddc3ca41cd"
   },
   "outputs": [
    {
     "name": "stdout",
     "output_type": "stream",
     "text": [
      "Tensor dimension of a single batch\n",
      "(batch_size x channels x height x width): [32, 1, 28, 28]\n"
     ]
    },
    {
     "data": {
      "image/png": "[encoded data removed]",
      "text/plain": [
       "<Figure size 640x480 with 4 Axes>"
      ]
     },
     "metadata": {},
     "output_type": "display_data"
    }
   ],
   "source": [
    "import torch\n",
    "from torch.utils.data import DataLoader\n",
    "from torchvision import datasets\n",
    "from torchvision.transforms import ToTensor\n",
    "from utils import *\n",
    "\n",
    "# --------------------------------------------------\n",
    "# TODO: Remove this line\n",
    "# --------------------------------------------------\n",
    "#from solution import *\n",
    "# --------------------------------------------------\n",
    "\n",
    "\"\"\"\n",
    "Here we fetch the dataset. The `root` param defines where on your disk to put\n",
    "it (in this case in a directory called 'root' that will be created if not\n",
    "already there), and the `download` param tells PyTorch to download it if\n",
    "necessary. The `transform` param specifies what should be done with the images\n",
    "after they were fetched from the disk. In some cases you might want to apply\n",
    "data augmentations, for example additionally rotate our images.\n",
    "For this exercise we will simply convert it into a `torch.Tensor` object so we\n",
    "can feed it into our model. To the test set we additionally pass the\n",
    "`train`=False param to indicate that we want the test split.\n",
    "\"\"\"\n",
    "train_set = datasets.MNIST(root=\"data\", download=True, transform=ToTensor())\n",
    "test_set = datasets.MNIST(root=\"data\",\n",
    "                          download=True,\n",
    "                          transform=ToTensor(),\n",
    "                          train=False)\n",
    "\"\"\"\n",
    "As described above, the DataLoader class specifies how to load the data. Here\n",
    "we have specified a batch size of 64. Usually, for\n",
    "the train set the shuffle parameter is set to True, meaning that the dataloader\n",
    "iterates through the dataset in random order each time. We won't shuffle the\n",
    "train set in this exercise because we want to train multiple models under\n",
    "similar conditions and compare the results. The test set isn't\n",
    "shuffled, because that way we can easily access the same samples which eases the\n",
    "comparison of models and their predictions.\n",
    "\"\"\"\n",
    "train_loader = DataLoader(train_set, batch_size=32, shuffle=False)\n",
    "test_loader = DataLoader(test_set, batch_size=32, shuffle=False)\n",
    "\"\"\"\n",
    "These lines of code simply start iterating through the dataloader, visualize\n",
    "the first 4 images of the first batch, and then terminate the iteration.\n",
    "\"\"\"\n",
    "\"\"\"\n",
    "What are the four dimensions of a batch:\n",
    "1. Batch Size : number of in this case images in a \n",
    "2. Dimensions: I am not sure ho to interpret dimentsion here\n",
    "\n",
    "\"\"\"\n",
    "for batch, labels in train_loader:\n",
    "    print(\n",
    "        \"\"\"Tensor dimension of a single batch\n",
    "(batch_size x channels x height x width):\"\"\", list(batch.shape))\n",
    "    visualize_first_4(batch, labels)\n",
    "    break"
   ]
  },
  {
   "cell_type": "markdown",
   "metadata": {
    "id": "KKoEozCejFNd"
   },
   "source": [
    "# Models\n",
    "\n",
    "Next we will take a look at how we can specify the architecture of our neural network (in deep learning our model almost always will be a neural network). The base class of all neural networks in PyTorch is the `torch.nn.Module` class. Every component of a neural network inherits from this class and the final neural network as well. Next is an example of how one could write an MLP (Multi-layer Perceptron a.k.a. Fully connected neural network) of fixed size in PyTorch. A class inheriting from `nn.Module` has to specify 2 functions:\n",
    "- `__init__()`: here we define all components and parameters of the model, as well as any configuration variables that may be used to alter how the network works.\n",
    "- `forward()`: here specify the forward pass by making use of the components that we have instantiated in the `__init__()` function."
   ]
  },
  {
   "cell_type": "code",
   "execution_count": 2,
   "metadata": {
    "executionInfo": {
     "elapsed": 11,
     "status": "ok",
     "timestamp": 1730970682451,
     "user": {
      "displayName": "Marco Rosinus Serrano",
      "userId": "05344009772154694250"
     },
     "user_tz": -60
    },
    "id": "hY40LqfSjQJN"
   },
   "outputs": [],
   "source": [
    "from torch import nn\n",
    "\n",
    "\n",
    "class SimpleFixedMLP(nn.Module):\n",
    "\n",
    "    def __init__(self):\n",
    "        \"\"\"\n",
    "        Here we define the components that we will use in the forward pass of\n",
    "        our model. As you can see we use the `nn.Linear` module with the bias\n",
    "        parameter set to true. It simply defines a matrix multiplication\n",
    "        y = Wx + b, which corresponds to one layer of an MLP without the\n",
    "        activation function applied. We have one input layer that takes as input\n",
    "        the flattened images, which have width and height of 28 pixels, and maps\n",
    "        it to a 32-dimensional feature vector. Then we have two hidden layers\n",
    "        that transform the features, keeping the dimensionality of 32. The\n",
    "        output layer takes the final 32 features and maps them into a 10\n",
    "        dimensional vector, where the index of highest entry indicates the\n",
    "        predicted class. Digits 0 to 9 equal 10 classes.\n",
    "        The activation function is set to be the ReLU function, which simply\n",
    "        sets negative values to zero, and keeps positive values the same.\n",
    "\n",
    "        The `nn.Flatten` layer in the beginning simply flattens our images\n",
    "        except for the batch dimension.\n",
    "        E.g. from (BS x C x H x W) -> (BS x C*H*W)\n",
    "\n",
    "        You may wonder why we only have specified the activation module once,\n",
    "        although its being used at 3 different locations, and the hidden layers\n",
    "        are instantiated separately, although they are instantiated with\n",
    "        identical parameters. This is simply because the ReLU activation\n",
    "        function doesnt have any internal parameters, it just sets negative\n",
    "        values to zero. The linear layers on the other hand depend on the weight\n",
    "        matrix W. Thus, reusing the same linear layer would theoretically work,\n",
    "        but we wouldnt learn distinct mappings.\n",
    "        \"\"\"\n",
    "        super().__init__()\n",
    "        self.flatten = nn.Flatten()\n",
    "        self.input_layer = nn.Linear(in_features=28 * 28,\n",
    "                                     out_features=32,\n",
    "                                     bias=True)\n",
    "        self.hidden_layer1 = nn.Linear(in_features=32,\n",
    "                                       out_features=32,\n",
    "                                       bias=True)\n",
    "        self.hidden_layer2 = nn.Linear(in_features=32,\n",
    "                                       out_features=32,\n",
    "                                       bias=True)\n",
    "        self.output_layer = nn.Linear(in_features=32,\n",
    "                                      out_features=10,\n",
    "                                      bias=True)\n",
    "        self.activation = nn.ReLU()\n",
    "\n",
    "    def forward(self, input):\n",
    "        \"\"\"\n",
    "        This is the forward pass. It takes as an argument the input to the model\n",
    "        and returns the input after applying the components.\n",
    "        \"\"\"\n",
    "        out = self.flatten(input)\n",
    "        out = self.input_layer(out)\n",
    "        out = self.activation(out)\n",
    "        out = self.hidden_layer1(out)\n",
    "        out = self.activation(out)\n",
    "        out = self.hidden_layer2(out)\n",
    "        out = self.activation(out)\n",
    "        out = self.output_layer(out)\n",
    "        return out"
   ]
  },
  {
   "cell_type": "markdown",
   "metadata": {
    "id": "ed_ZwP5r4DBS"
   },
   "source": [
    "## Task 1a (20 P)\n",
    "Write another class `SimpleMLP`, that takes as an argument a list of dimensionalities of the layers, such that we can instantiate MLPs of arbitrary size using that class. If we'd like to replicate the above SimpleFixedMLP we could set the `dims` parameter to `[28*28, 32, 32, 32, 10]`. The activation function should remain the ReLU function. Also don't be confused by how the solution may look like, you don't have to put\n",
    "all the layers into a single variable.\n",
    "\n",
    "It's very important for all the variables defined in your `__init__()` function to be either a subclass of `nn.Module` (most members of the `torch.nn` package inherit from `torch.nn.Module`) or to be wrapped with `nn.Parameter(...)`. This is because otherwise, when training our model, these variables may not be considered \"learnable\" and won't change. Furthermore, when saving the model to a file, PyTorch only saves variables that it recognizes as parameters. These resources may help: [a blog post](https://blog.paperspace.com/pytorch-101-advanced/), [stackoverflow question](https://stackoverflow.com/questions/50935345/understanding-torch-nn-parameter) or [pytorch nn.Parameter docs](https://pytorch.org/docs/stable/generated/torch.nn.parameter.Parameter.html)  \n",
    "\n",
    "Hint: you may use the [`ModuleList`](https://pytorch.org/docs/stable/generated/torch.nn.ModuleList.html) module."
   ]
  },
  {
   "cell_type": "code",
   "execution_count": 10,
   "metadata": {
    "executionInfo": {
     "elapsed": 10,
     "status": "ok",
     "timestamp": 1730970682452,
     "user": {
      "displayName": "Marco Rosinus Serrano",
      "userId": "05344009772154694250"
     },
     "user_tz": -60
    },
    "id": "Fq360Usbf-G5"
   },
   "outputs": [
    {
     "name": "stdout",
     "output_type": "stream",
     "text": [
      "This MLP has one input layer, 2 hidden layer and 1 output layer\n",
      "<bound method Module.parameters of SimpleMLP(\n",
      "  (flatten): Flatten(start_dim=1, end_dim=-1)\n",
      "  (input_layer): Linear(in_features=784, out_features=32, bias=True)\n",
      "  (hidden_layer_1): Linear(in_features=32, out_features=32, bias=True)\n",
      "  (hidden_layer_2): Linear(in_features=32, out_features=32, bias=True)\n",
      "  (output_layer): Linear(in_features=32, out_features=10, bias=True)\n",
      "  (activation): ReLU()\n",
      ")>\n",
      "\ttorch.Size([32, 784])\n",
      "\ttorch.Size([32])\n",
      "\ttorch.Size([32, 32])\n",
      "\ttorch.Size([32])\n",
      "\ttorch.Size([32, 32])\n",
      "\ttorch.Size([32])\n",
      "\ttorch.Size([10, 32])\n",
      "\ttorch.Size([10])\n"
     ]
    }
   ],
   "source": [
    "class SimpleMLP(nn.Module):\n",
    "\n",
    "    def __init__(self, dims: list[int]):\n",
    "        super().__init__()\n",
    "        self.hidden_layers = []\n",
    "        self.flatten = nn.Flatten() # here we flatteb the batch (previously 2 dimensional matrix) size of the tensor to a one dimensional vector\n",
    "        hidden_counter = 1\n",
    "        for idx, ele in enumerate(dims, start=1):\n",
    "\n",
    "            if idx == 1:\n",
    "                # input layer definition\n",
    "                self.input_layer = nn.Linear(dims[idx -1], dims[idx], bias=True)\n",
    "                continue\n",
    "\n",
    "            elif idx == len(dims)-1:\n",
    "                # output layer definition\n",
    "                self.output_layer = nn.Linear(dims[idx -1], dims[idx], bias=True)\n",
    "                break\n",
    "\n",
    "            else: # standard case:  hidden layer definition\n",
    "                self.hidden_layers.append(nn.Linear(dims[idx -1], dims[idx], bias=True))\n",
    "                setattr(self, f\"hidden_layer_{hidden_counter}\", nn.Linear(dims[idx -1], dims[idx], bias=True))\n",
    "                hidden_counter += 1\n",
    "\n",
    "        self.activation = nn.ReLU()\n",
    "\n",
    "        self.explanation = f\"This MLP has one input layer, {len(self.hidden_layers)} hidden layer and 1 output layer\"\n",
    "\n",
    "        # --------------------------------------------------\n",
    "        # TODO: Replace by your code\n",
    "        # --------------------------------------------------\n",
    "        #self.layers = solution_1a_init(dims)\n",
    "        # --------------------------------------------------\n",
    "\n",
    "\n",
    "    def forward(self, input: torch.Tensor) -> torch.Tensor:\n",
    "\n",
    "        # --------------------------------------------------\n",
    "        # TODO: Replace by your code\n",
    "        # --------------------------------------------------\n",
    "        #out = solution_1a_forward(input, self.layers)\n",
    "        # --------------------------------------------------\n",
    "\n",
    "        # tensor\n",
    "        out = self.input_layer(self.flatten(input))\n",
    "        out = self.activation(out)\n",
    "        for layer in self.hidden_layers:\n",
    "            out = layer(out)\n",
    "            out = self.activation(out)\n",
    "        \n",
    "        out = self.output_layer(out)\n",
    "        return out\n",
    "\n",
    "# to try out : model-parameters(), model.eval(), model.train()\n",
    "\n",
    "mlp = SimpleMLP(dims=[784, 32, 32,32, 10])\n",
    "print(mlp.explanation)\n",
    "print(mlp.parameters) # returns the learnable parameters in this model and gives us details about the \n",
    "# the torch.sizes with only one element represent the bias vector for the specific layer\n",
    "for i, param in enumerate(mlp.parameters()):\n",
    "        print(f\"\\t{param.shape}\") # this here donotes the tuple of dimensions for a tensor: [batch size, numbers of features per sample]\n"
   ]
  },
  {
   "cell_type": "markdown",
   "metadata": {
    "id": "W51HyoAK7Vrm"
   },
   "source": [
    "## Task 1b) (10 P)\n",
    "\n",
    "Usually, if we have such simple architectures as an MLP, where the input is just sequentially transformed, its not necessary to define a new class. Instead we can just use the [`nn.Sequential`](https://pytorch.org/docs/stable/generated/torch.nn.Sequential.html) module, which takes a list of modules as an input and applies them sequentially. In this task you should instantiate 3 separate models, which all will have the same structure. The first model should use the SimpleFixedMLP class, the second model should use the SimpleMLP class, with the layer dimensions matching the ones of the SimpleFixedMLP class, and one model using the nn.Sequential module, again with the same dimensionalities as the other 2 models."
   ]
  },
  {
   "cell_type": "code",
   "execution_count": 4,
   "metadata": {
    "executionInfo": {
     "elapsed": 10,
     "status": "ok",
     "timestamp": 1730970682452,
     "user": {
      "displayName": "Marco Rosinus Serrano",
      "userId": "05344009772154694250"
     },
     "user_tz": -60
    },
    "id": "0F06rmsvqcHZ"
   },
   "outputs": [],
   "source": [
    "# --------------------------------------------------\n",
    "# TODO: Replace by your code\n",
    "# --------------------------------------------------\n",
    "#model1 = solution_1b_simplefixedmlp(SimpleFixedMLP)\n",
    "#model2 = solution_1b_simplemlp(SimpleMLP)\n",
    "#model3 = solution_1b_sequential()\n",
    "# --------------------------------------------------\n",
    "\n",
    "# nn.sequential is a container for nn.modules (the abstract class for all network components)\n",
    "# good for fully connected neural networks\n",
    "# good for feedforward networks -> do not have to program the feedforward\n",
    "\n",
    "model1 = SimpleFixedMLP()\n",
    "\n",
    "model2 = SimpleMLP([784, 32, 32, 32, 10])\n",
    "\n",
    "model3 = nn.Sequential(\n",
    "     nn.Flatten(),\n",
    "     nn.Linear(784, 32, bias=True),\n",
    "     nn.ReLU(),\n",
    "     nn.Linear(32,32),\n",
    "     nn.ReLU(),\n",
    "     nn.Linear(32, 32),\n",
    "     nn.ReLU(),\n",
    "     nn.Linear(32, 10)\n",
    ")\n",
    "\n"
   ]
  },
  {
   "cell_type": "markdown",
   "metadata": {
    "id": "0ReyrI_Ku6Qc"
   },
   "source": [
    "The three models you just created might have been created in different ways, but internally they should all work the same way. Each layer is consists of a matrix-vector multiplication followed by a ReLU nonlinearity, except for the last layer. The only thing that differs is the initialization of parameters, which happens randomly. The following code should demonstrate that. For each model we will print the shapes of the weight matrices and biases along with the first 3 entries of the first weight matrix."
   ]
  },
  {
   "cell_type": "code",
   "execution_count": 5,
   "metadata": {
    "colab": {
     "base_uri": "https://localhost:8080/"
    },
    "executionInfo": {
     "elapsed": 9,
     "status": "ok",
     "timestamp": 1730970682452,
     "user": {
      "displayName": "Marco Rosinus Serrano",
      "userId": "05344009772154694250"
     },
     "user_tz": -60
    },
    "id": "q_1UKZnowFAL",
    "outputId": "5bbf3345-6f20-49f2-e8c4-f4cc09dc4494"
   },
   "outputs": [
    {
     "name": "stdout",
     "output_type": "stream",
     "text": [
      "Model 1 parameter shapes:\n",
      "\ttorch.Size([32, 784]) tensor([-0.0123, -0.0353, -0.0061])\n",
      "\ttorch.Size([32]) \n",
      "\ttorch.Size([32, 32]) \n",
      "\ttorch.Size([32]) \n",
      "\ttorch.Size([32, 32]) \n",
      "\ttorch.Size([32]) \n",
      "\ttorch.Size([10, 32]) \n",
      "\ttorch.Size([10]) \n",
      "Model 2 parameter shapes:\n",
      "\ttorch.Size([32, 784]) tensor([ 0.0181, -0.0207,  0.0048])\n",
      "\ttorch.Size([32]) \n",
      "\ttorch.Size([32, 32]) \n",
      "\ttorch.Size([32]) \n",
      "\ttorch.Size([32, 32]) \n",
      "\ttorch.Size([32]) \n",
      "\ttorch.Size([10, 32]) \n",
      "\ttorch.Size([10]) \n",
      "Model 3 parameter shapes:\n",
      "\ttorch.Size([32, 784]) tensor([ 0.0206,  0.0168, -0.0211])\n",
      "\ttorch.Size([32]) \n",
      "\ttorch.Size([32, 32]) \n",
      "\ttorch.Size([32]) \n",
      "\ttorch.Size([32, 32]) \n",
      "\ttorch.Size([32]) \n",
      "\ttorch.Size([10, 32]) \n",
      "\ttorch.Size([10]) \n"
     ]
    }
   ],
   "source": [
    "for i, model in enumerate([model1, model2, model3]):\n",
    "    print(f\"Model {i+1} parameter shapes:\")\n",
    "    for i, param in enumerate(model.parameters()):\n",
    "        print(f\"\\t{param.shape} {param.detach()[0, :3] if i == 0 else ''}\")"
   ]
  },
  {
   "cell_type": "markdown",
   "metadata": {
    "id": "VdoyzcmujWbD"
   },
   "source": [
    "# Training\n",
    "\n",
    "The training loop in PyTorch almost always follows the same iterative structure:\n",
    "1. Get the next training batch consisting of samples and corresponding labels\n",
    "1. Compute the predictions using our instantiated model\n",
    "1. Compute the loss of the current batch from the labels and the predictions\n",
    "1. Compute the gradient of the loss wrt. to the model parameters using backpropagation\n",
    "1. Make a gradient descent step\n",
    "\n",
    "for that we will introduce two new concepts in PyTorch: optimizers and automatic differentiation.\n",
    "\n"
   ]
  },
  {
   "cell_type": "markdown",
   "metadata": {
    "id": "_3ctXz0m1bbQ"
   },
   "source": [
    "## PyTorch Optimizers\n",
    "\n",
    "In PyTorch, optimizers should be of type `torch.optim.Optimizer` which is a wrapper class for specific optimizers. From the lecture you might remember stohastic gradient descent (SGD) and Adam. When initalizing optimizers the first argument is always the parameters of the model, which can be accessed via `model.parameters()`, followed by specific parameters of the optimization algorithm. Initializing a SGD optimizer could look like this:\n",
    "```python\n",
    "from torch.optim import SGD\n",
    "\n",
    "mlp = SimpleMLP(dims=[28*28, 256, 10])\n",
    "\n",
    "# SGD with learning rate set to 0.001 and momentum set to 0.9\n",
    "# refer to the lecture slides in case you don't know what that means\n",
    "sgd_optimizer = SGD(mlp.parameters(), lr=.001, momentum=.9)\n",
    "```\n",
    "\n",
    "The most important functions of the `Optimizer` class are `Optimizer.zero_grad()` and `Optimizer.step()`.\n",
    "\n",
    "The `zero_grad()` function iterates through all the model parameters and sets their gradient to 0 (or `None` if setting the param `set_to_none=True`, read [here](https://pytorch.org/docs/stable/generated/torch.optim.Optimizer.zero_grad.html) why you might want to do that). This is important, because when doing backpropagation, the new gradients are **added** onto the current gradients, thus leading to wrong results if not set to 0 before. This is again briefly explained in the [docs](https://pytorch.org/docs/stable/generated/torch.Tensor.grad.html)\n",
    "\n",
    "The `step()` functions triggers a gradient step according to the optimizer's algorithm. For basic SGD without momentum this will go into the negative gradient direction, scaled by the learning rate `lr`."
   ]
  },
  {
   "cell_type": "markdown",
   "metadata": {
    "id": "lCgXqNBq1hi-"
   },
   "source": [
    "## PyTorch autodiff (or how to do backpropagation)\n",
    "\n",
    "In our case, the loss function is a function that takes the model predictions and the actual labels as an input and returns a scalar value, representing how poorly our model performs. The output is of type torch.Tensor, which is the PyTorch equivalent to NumPy's numpy.ndarray. In order to do backpropagation, one simply calls the [`torch.Tensor.backward()`](https://pytorch.org/docs/stable/generated/torch.Tensor.backward.html) function, which can be used just like that for scalar tensors (e.g. just a single value). It will then go through the computation graph and write the gradients into the `.grad` attribute of the leaf tensor that have the `requires_grad` argument set to True, e.g. by wrapping the tensor in a `nn.Parameter`.\n",
    "\n"
   ]
  },
  {
   "cell_type": "markdown",
   "metadata": {
    "id": "LGjNeFGGkTul"
   },
   "source": [
    "## Demo\n",
    "\n",
    "Below is a short demonstration on how these things work together."
   ]
  },
  {
   "cell_type": "code",
   "execution_count": 6,
   "metadata": {
    "colab": {
     "base_uri": "https://localhost:8080/"
    },
    "executionInfo": {
     "elapsed": 8,
     "status": "ok",
     "timestamp": 1730970682452,
     "user": {
      "displayName": "Marco Rosinus Serrano",
      "userId": "05344009772154694250"
     },
     "user_tz": -60
    },
    "id": "d3yznxBwqtFc",
    "outputId": "732c0a23-b95f-403d-e63c-784ae9eac589"
   },
   "outputs": [
    {
     "name": "stdout",
     "output_type": "stream",
     "text": [
      "After initialization of tensors the .grad attribute is None.\n",
      "\n",
      "None (gradient of learnable tensor)\n",
      "None (gradient of non learnable tensor)\n",
      "\n",
      "\n",
      "Now we have called the .backward() function which will go through the\n",
      "computation graph and fill in the gradient attributes of tensors the are marked\n",
      "with requires_grad=True\n",
      "\n",
      "tensor([1., 2., 3.]) (gradient of learnable tensor)\n",
      "None (gradient of non learnable tensor)\n",
      "\n",
      "\n",
      "Calling the backward() function again, simply adds onto\n",
      "the current gradient, thus its very important to always zero the gradients after\n",
      "having completed and optimization step.\n",
      "\n",
      "tensor([2., 4., 6.]) (gradient of learnable tensor)\n",
      "None (gradient of non learnable tensor)\n",
      "\n",
      "\n",
      "Now we apply a step of our optimizer. We have defined it to be\n",
      "stochastic gradient descent with a learning rate of 0.1, and as you can see, we\n",
      "substract the gradient of the learnable tensor times the learning rate\n",
      "from its actual values.\n",
      "E.g.: (1, 1, 1) - (2, 4, 6) * 0.1 = (0.8, 0.6, 0.4)\n",
      "\n",
      "tensor([0.8000, 0.6000, 0.4000]) (learnable tensor)\n",
      "tensor([1., 2., 3.]) (non learnable tensor)\n",
      "\n",
      "\n",
      "Next, we call the optimizer.zero_grad() function, which simply sets the\n",
      "gradient to zero. We explicitly set the set_to_none parameter to True. If you\n",
      "would omit that part it would be set to None.\n",
      "\n",
      "tensor([0., 0., 0.]) (gradient of learnable tensor)\n",
      "None (gradient of non learnable tensor)\n"
     ]
    }
   ],
   "source": [
    "from torch.optim import SGD\n",
    "\n",
    "non_learnable_tensor = torch.tensor([1., 2., 3.])\n",
    "learnable_tensor = torch.tensor([1., 1., 1.], requires_grad=True)\n",
    "\n",
    "# For this demonstration we simply passed our tensors as a list to the\n",
    "# optimizer. Usually you would pass as the first argument to your optimizer\n",
    "# `model.parameters()`.\n",
    "optimizer = SGD([learnable_tensor, non_learnable_tensor], lr=0.1)\n",
    "\n",
    "output = non_learnable_tensor @ learnable_tensor\n",
    "\n",
    "print(\"After initialization of tensors the .grad attribute is None.\\n\")\n",
    "print(learnable_tensor.grad, \"(gradient of learnable tensor)\")\n",
    "print(non_learnable_tensor.grad, \"(gradient of non learnable tensor)\\n\\n\")\n",
    "\n",
    "# The retain_graph=True parameter is just filled in to keep the computation\n",
    "# graph, as its usually deleted to free up memory. We just do it here to call\n",
    "# the backward function a second time for demonstration purposes.\n",
    "output.backward(retain_graph=True)\n",
    "print(\"\"\"Now we have called the .backward() function which will go through the\n",
    "computation graph and fill in the gradient attributes of tensors the are marked\n",
    "with requires_grad=True\\n\"\"\")\n",
    "print(learnable_tensor.grad, \"(gradient of learnable tensor)\")\n",
    "print(non_learnable_tensor.grad, \"(gradient of non learnable tensor)\\n\\n\")\n",
    "\n",
    "output.backward()\n",
    "print(\"\"\"Calling the backward() function again, simply adds onto\n",
    "the current gradient, thus its very important to always zero the gradients after\n",
    "having completed and optimization step.\\n\"\"\")\n",
    "print(learnable_tensor.grad, \"(gradient of learnable tensor)\")\n",
    "print(non_learnable_tensor.grad, \"(gradient of non learnable tensor)\\n\\n\")\n",
    "\n",
    "optimizer.step()\n",
    "print(\"\"\"Now we apply a step of our optimizer. We have defined it to be\n",
    "stochastic gradient descent with a learning rate of 0.1, and as you can see, we\n",
    "substract the gradient of the learnable tensor times the learning rate\n",
    "from its actual values.\n",
    "E.g.: (1, 1, 1) - (2, 4, 6) * 0.1 = (0.8, 0.6, 0.4)\\n\"\"\")\n",
    "print(learnable_tensor.data, \"(learnable tensor)\")\n",
    "print(non_learnable_tensor.data, \"(non learnable tensor)\\n\\n\")\n",
    "\n",
    "optimizer.zero_grad(set_to_none=False)\n",
    "print(\n",
    "    \"\"\"Next, we call the optimizer.zero_grad() function, which simply sets the\n",
    "gradient to zero. We explicitly set the set_to_none parameter to True. If you\n",
    "would omit that part it would be set to None.\\n\"\"\")\n",
    "print(learnable_tensor.grad, \"(gradient of learnable tensor)\")\n",
    "print(non_learnable_tensor.grad, \"(gradient of non learnable tensor)\")\n"
   ]
  },
  {
   "cell_type": "markdown",
   "metadata": {
    "id": "45Q42ZZKp2NW"
   },
   "source": [
    "## Task 2a) (20 P)\n",
    "\n",
    "Implement a function for the above described training loop. The loop over multiple epochs (1 epoch = 1 iteration through the whole dataset) and through the dataset are given, you just have to add the code for a single iteration. To inspect the training process in the next task, add the loss for each iteration to the `losses` array.\n",
    "\n",
    "You might have noticed that while our model outputs a 10-dimensional vector of values in $]-∞, ∞[$ the labels are scalars indicating the corresponding class, e.g. `torch.Tensor(3.)` for the digit 3. More on that will be covered in the upcoming homework, for now its enough to know that you can feed them as is into the loss function `loss_fn` like so `loss_fn(predictions, labels)`\n",
    "\n",
    "You are free to add print statements as you like. For example you could print the loss every few iterations so that we can track the progress when training the models in the next task. This is not part of the task though."
   ]
  },
  {
   "cell_type": "code",
   "execution_count": 7,
   "metadata": {
    "executionInfo": {
     "elapsed": 346,
     "status": "ok",
     "timestamp": 1730970682793,
     "user": {
      "displayName": "Marco Rosinus Serrano",
      "userId": "05344009772154694250"
     },
     "user_tz": -60
    },
    "id": "yZzy9Ps6jZeH"
   },
   "outputs": [],
   "source": [
    "from typing import Callable\n",
    "\n",
    "# lets implement the expected quadratic loss as in Exercise 3 where we derived the hessian matrix from\n",
    "def expeted_quadratic_error(predictions: torch.Tensor, labels : torch.Tensor) -> torch.Tensor:\n",
    "    if len(predictions) != len(labels):\n",
    "        raise Exception(\"Well, something went worng\")\n",
    "\n",
    "    error_terms = []\n",
    "    for x in range(len(predictions)):\n",
    "        new_term = 0.5 * pow(predictions[x] - labels[x], 2)\n",
    "        error_terms.append(new_term)\n",
    "    \n",
    "    total_error = sum(error_terms) / len(error_terms)\n",
    "    return torch.tensor(total_error, requires_grad=True) # tells autograd to record operations on these tensors\n",
    "\n",
    "\n",
    "def train(model: nn.Module,\n",
    "          dataloader: DataLoader,\n",
    "          optimizer: torch.optim.Optimizer,\n",
    "          loss_fn: Callable[[torch.Tensor, torch.Tensor], torch.Tensor],\n",
    "          n_epochs: int = 20):\n",
    "        \n",
    "\n",
    "    for epoch in range(n_epochs):\n",
    "        losses = []\n",
    "        for batch, labels in dataloader:\n",
    "            # --------------------------------------------------\n",
    "            # TODO: Replace by your code\n",
    "            # --------------------------------------------------\n",
    "           # losses.append(\n",
    "            #    solution_2a_train(model, batch, labels, optimizer, loss_fn))\n",
    "            # --------------------------------------------------\n",
    "            forward_out = model.forward(batch)\n",
    "            loss = loss_fn(forward_out, labels)\n",
    "            optimizer.zero_grad() # clears all gradients, so the gradients calculated is only depedent on the current batch of data\n",
    "            loss.backward() # gradients are here added to the grad attribute of the parameters\n",
    "            optimizer.step()\n",
    "            #print(loss)\n",
    "            losses.append(loss.item())\n",
    "    return losses"
   ]
  },
  {
   "cell_type": "markdown",
   "metadata": {
    "id": "-Lxp9RORPj9J"
   },
   "source": [
    "## Task 2b) (10 P)\n",
    "\n",
    "Next we want to actually train models. We have already defined our dataloader objects above in the \"Dataset (MNIST)\" cell. To train models, you are given a new array of 6 models with less parameters to ensure executability on every machine. Your task will be to define 6 corresponding optimizers, one for each model, e.g. `optimizers[i]` corresponds to `models[i]`. We will use `torch.optim.Adam()` with a learning rate of 0.04 for this task. As our loss function we will use the `nn.CrossEntropyLoss()` (more on that in the \"Tasks / Loss functions\" lecture).\n",
    "\n",
    "Then use the `train()` function created in task 2a) to train our models. For your final submission please keep the number of epochs at 1, though feel free to play around with the number of epochs, and also the batch size (specified in the dataloader at the top of this notebook). Make sure you use the correct dataloader.\n",
    "\n",
    "After having trained all models, plot their losses in a single plot to compare their convergence behaviour. Due to high fluctuations we have smoothed the losses array using a moving average with a window size of 25."
   ]
  },
  {
   "cell_type": "code",
   "execution_count": null,
   "metadata": {
    "colab": {
     "base_uri": "https://localhost:8080/",
     "height": 605
    },
    "executionInfo": {
     "elapsed": 125398,
     "status": "ok",
     "timestamp": 1730970808189,
     "user": {
      "displayName": "Marco Rosinus Serrano",
      "userId": "05344009772154694250"
     },
     "user_tz": -60
    },
    "id": "7-0GZ_vyUgHo",
    "outputId": "57531e36-46c0-4605-f2d2-ab3c66ce18d3"
   },
   "outputs": [
    {
     "data": {
      "image/png": "[encoded data removed]",
      "text/plain": [
       "<Figure size 1000x600 with 1 Axes>"
      ]
     },
     "metadata": {},
     "output_type": "display_data"
    }
   ],
   "source": [
    "import numpy as np\n",
    "import matplotlib.pyplot as plt\n",
    "\n",
    "loss_fn = nn.CrossEntropyLoss()\n",
    "\n",
    "models = [SimpleMLP(dims=[28 * 28, 32, 10]) for _ in range(5)]\n",
    "#print(models[0].parameters)\n",
    "\n",
    "# --------------------------------------------------\n",
    "# TODO: Replace by your code\n",
    "# --------------------------------------------------\n",
    "#optimizers = solution_2b_optimizers(models)\n",
    "\n",
    "#optimizers = [torch.optim.Adam(lr=0.04) for _ in range(10)]\n",
    "dataLoaders = [DataLoader(train_set, batch_size=32, shuffle=False) for _ in range(5)]\n",
    "\n",
    "learning_rate = 0.04\n",
    "#solution_2b_train(train, models, optimizers, loss_fn, n_epochs=1)\n",
    "# --------------------------------------------------\n",
    "\n",
    "def train_all_models(train : Callable, models, loss_fn, n_epochs):\n",
    "     time_series = []\n",
    "     for x in range(len(models)):\n",
    "          series = train(models[x], dataLoaders[x] , torch.optim.Adam(models[x].parameters(), lr=learning_rate), loss_fn, n_epochs)\n",
    "          time_series.append(series) \n",
    "\n",
    "     data = np.array(time_series)\n",
    "     time_points = np.arange(len(time_series[0]))\n",
    "\n",
    "     # Plot each time series\n",
    "     plt.figure(figsize=(10, 6))\n",
    "     for i in range(len(time_series)):\n",
    "          plt.plot(time_points, time_series[i], label=f'Model {i+1}')\n",
    "\n",
    "     # Adding labels and title\n",
    "     plt.xlabel(\"Training Step\")\n",
    "     plt.ylabel(\"Value\")\n",
    "     plt.title(\"Training multiple Models\")\n",
    "     plt.legend()\n",
    "     plt.show()\n",
    "          \n",
    "train_all_models(train=train, models=models,loss_fn=loss_fn, n_epochs=1 )\n"
   ]
  },
  {
   "cell_type": "markdown",
   "metadata": {
    "id": "nzHUpdfjjfVH"
   },
   "source": [
    "# Evaluation"
   ]
  },
  {
   "cell_type": "markdown",
   "metadata": {
    "id": "1Blgyy0htP5U"
   },
   "source": [
    "## Task 3a) (20 P)\n",
    "\n",
    "In this task we will compare the overall accuracy of our models. The accuracy is defined as follows:\n",
    "\n",
    "\\begin{equation} \\text{accuracy } = \\frac{\\text{\\# correctly classified samples}}{\\text{\\# samples}} \\end{equation}\n",
    "\n",
    "Complete the missing part of the following function that gets as input a model and a dataloader and outputs the accuracy metric."
   ]
  },
  {
   "cell_type": "code",
   "execution_count": null,
   "metadata": {
    "executionInfo": {
     "elapsed": 13,
     "status": "ok",
     "timestamp": 1730970808189,
     "user": {
      "displayName": "Marco Rosinus Serrano",
      "userId": "05344009772154694250"
     },
     "user_tz": -60
    },
    "id": "DyuxJUsZjgcQ"
   },
   "outputs": [],
   "source": [
    "# gives back the number of corretly classified -> \"HITS\"\n",
    "def count_hits_in_batch(output : torch.tensor, labels: torch.tensor) -> int:\n",
    "    if len(output) != len(labels):\n",
    "        raise Exception(\"Dimensions do not fit\")\n",
    "    hits = 0\n",
    "    for x in range(len(output)):\n",
    "        if output[x] == labels[x]:\n",
    "            hits += 1\n",
    "    \n",
    "    return hits\n",
    "\n",
    "\n",
    "\n",
    "def compute_accuracy(model: nn.Module, dataloader: DataLoader) -> float:\n",
    "    \"Compute accuracy of `model` on the dataset in `dataloader`.\"\n",
    "    n_correctly_classified = 0\n",
    "\n",
    "    for batch, labels in dataloader:\n",
    "\n",
    "        # --------------------------------------------------\n",
    "        # TODO: Replace by your code\n",
    "        # --------------------------------------------------\n",
    "        #n_correctly_classified += solution_3a_compute_accuracy(\n",
    "           # model, batch, labels)\n",
    "        # --------------------------------------------------\n",
    "\n",
    "\n",
    "        \n",
    "        # this is a tensor from with the shape [32, 10]. denoting probabilities for the different digits. We wil take the highest probability using the argmax function to get the tensor\n",
    "        # to the same dimension as the labels tensor\n",
    "        # labels has shape [32] jsut scalars\n",
    "        model_output = model.forward(batch) \n",
    "        predicted_classes = torch.argmax(model_output, dim=1)\n",
    "        n_correctly_classified += count_hits_in_batch(predicted_classes, labels)\n",
    "\n",
    "\n",
    "    accuracy = n_correctly_classified / len(dataloader.dataset)\n",
    "    return accuracy"
   ]
  },
  {
   "cell_type": "code",
   "execution_count": 18,
   "metadata": {
    "colab": {
     "base_uri": "https://localhost:8080/"
    },
    "executionInfo": {
     "elapsed": 14283,
     "status": "ok",
     "timestamp": 1730970822461,
     "user": {
      "displayName": "Marco Rosinus Serrano",
      "userId": "05344009772154694250"
     },
     "user_tz": -60
    },
    "id": "gu56xNjT2K3O",
    "outputId": "b19e3a43-c2d5-4958-f21c-cf94ffecd5a1"
   },
   "outputs": [
    {
     "name": "stdout",
     "output_type": "stream",
     "text": [
      "Model 1 Test accuracy: 0.8979\n",
      "Model 2 Test accuracy: 0.8990\n",
      "Model 3 Test accuracy: 0.9007\n",
      "Model 4 Test accuracy: 0.8838\n",
      "Model 5 Test accuracy: 0.9041\n"
     ]
    }
   ],
   "source": [
    "test_accuracies = [compute_accuracy(model, test_loader) for model in models]\n",
    "\n",
    "for i, test_acc in enumerate(test_accuracies):\n",
    "    print(f\"Model {i+1} Test accuracy: {test_acc:.4f}\")"
   ]
  },
  {
   "cell_type": "markdown",
   "metadata": {
    "id": "fNDN_WrE7L8f"
   },
   "source": [
    "## Task 3b) (20 P)\n",
    "\n",
    "Next we will take a look at the accuracy the models achieve per class. Write a function, similar to the one in the previous task, that computes the accuracy for a model on a dataset, for each class in the MNIST dataset. The output of that function should be a Python dictionary, that has as keys the integers 0-9 (classes of the MNIST dataset), and as values the corresponding accuracy. The per class accuracy is computed as follows:\n",
    "\n",
    "\\begin{equation} \\text{accuracy}_i = \\frac{\\text{\\# correctly classified samples of class } i}{\\text{\\# samples of class } i} \\end{equation}"
   ]
  },
  {
   "cell_type": "code",
   "execution_count": 33,
   "metadata": {
    "executionInfo": {
     "elapsed": 13,
     "status": "ok",
     "timestamp": 1730970822461,
     "user": {
      "displayName": "Marco Rosinus Serrano",
      "userId": "05344009772154694250"
     },
     "user_tz": -60
    },
    "id": "V8EKyXil7V38"
   },
   "outputs": [],
   "source": [
    "def construct_dict(model: nn.Module):\n",
    "     param_iterator = model.parameters()\n",
    "     output_classes = list(param_iterator)[-1].shape[0]\n",
    "     #print(output_classes)\n",
    "     count_dict = {k : 0 for k in range(output_classes) }\n",
    "     #print(count_dict)\n",
    "     return count_dict\n",
    "\n",
    "def count_hits_per_class(predictes_classes :  torch.tensor, labels: torch.tensor , class_id : int) -> int:\n",
    "     hits = 0\n",
    "     for x in range(len(predictes_classes)):\n",
    "          if predictes_classes[x] == labels[x] and labels[x] ==class_id:\n",
    "               hits += 1\n",
    "     return hits\n",
    "\n",
    "def convert_hit_dict_to_acc(count_dict : dict[int, int], dataset_length : int) -> dict[int, float]:\n",
    "     result = {}\n",
    "\n",
    "     for key in count_dict.keys():\n",
    "          result[key] = count_dict[key] / dataset_length\n",
    "     \n",
    "     return result\n",
    "\n",
    "\n",
    "def compute_accuracy_per_class(model: nn.Module,\n",
    "                               dataloader: DataLoader) -> dict[int, float]:\n",
    "     \"Compute the accuracy of `model` for each class of the dataset in `dataloader`.\"\n",
    "\n",
    "     # --------------------------------------------------\n",
    "     # TODO: Replace by your code\n",
    "     # --------------------------------------------------\n",
    "     #return solution_3b_accuracy_per_class(model, dataloader)\n",
    "     # --------------------------------------------------\n",
    "     count_dict = construct_dict(model=model)\n",
    "\n",
    "     for batch ,labels in dataloader:\n",
    "\n",
    "          model_output = model.forward(batch) \n",
    "          predicted_classes = torch.argmax(model_output, dim=1)\n",
    "          \n",
    "          for class_id in count_dict.keys():\n",
    "               hits = count_hits_per_class(predictes_classes=predicted_classes, labels=labels, class_id=class_id)\n",
    "               count_dict[class_id] += hits\n",
    "     \n",
    "     return convert_hit_dict_to_acc(count_dict=count_dict, dataset_length=len(dataloader.dataset))\n",
    "     \n",
    " \n"
   ]
  },
  {
   "cell_type": "markdown",
   "metadata": {
    "id": "21fRODkLw5J-"
   },
   "source": [
    "## Conclusion\n",
    "\n",
    "Next, there is a function which will plot the accuracy of each model in a bar chart. The x-axis is labelled with the classes, e.g. digits 0-9, and the y-axis corresponds to the accuracy of a given model on that class.\n",
    "\n",
    "Remember, all 6 models have exactly the same number of parameters, they all have been trained for exactly one epoch on the same ordering of dataset samples, and they have been optimized using the exact same optimizer. Yet, we see significantly different results in terms of class-specific accuracy.\n",
    "\n",
    "This is due to the highly non-convex loss function, and the random initialization. This causes the models to land in different local optima of the loss function which in turn causes them to perform differently."
   ]
  },
  {
   "cell_type": "code",
   "execution_count": 34,
   "metadata": {
    "colab": {
     "base_uri": "https://localhost:8080/",
     "height": 449
    },
    "executionInfo": {
     "elapsed": 14940,
     "status": "ok",
     "timestamp": 1730970837392,
     "user": {
      "displayName": "Marco Rosinus Serrano",
      "userId": "05344009772154694250"
     },
     "user_tz": -60
    },
    "id": "EIL5wQCpkcQW",
    "outputId": "3c9f88b5-ba2e-4400-f90c-06936935d383"
   },
   "outputs": [
    {
     "data": {
      "image/png": "[encoded data removed]",
      "text/plain": [
       "<Figure size 640x480 with 1 Axes>"
      ]
     },
     "metadata": {},
     "output_type": "display_data"
    }
   ],
   "source": [
    "import matplotlib.pyplot as plt\n",
    "\n",
    "\n",
    "def accuracies_bar_plot(per_class_accuracies, label):\n",
    "    labels = list(range(10))\n",
    "\n",
    "    bar_heights = {\n",
    "        f\"Model {i+1}\": list(per_class_accuracies[i].values())\n",
    "        for i, model in enumerate(models)\n",
    "    }\n",
    "\n",
    "    width = 0.09\n",
    "    multiplier = -3\n",
    "\n",
    "    for model_id, accuracies in bar_heights.items():\n",
    "        offset = width * multiplier\n",
    "        rects = plt.bar([l + offset for l in labels],\n",
    "                        accuracies,\n",
    "                        width,\n",
    "                        label=model_id)\n",
    "        multiplier += 1\n",
    "\n",
    "    plt.ylabel(label)\n",
    "    plt.xlabel(\"MNIST digit\")\n",
    "    plt.xticks([l + width for l in labels], labels)\n",
    "    plt.legend(loc=\"upper right\", ncols=2)\n",
    "    plt.show()\n",
    "\n",
    "\n",
    "test_per_class_accuracies = [\n",
    "    compute_accuracy_per_class(model, test_loader) for model in models\n",
    "]\n",
    "\n",
    "accuracies_bar_plot(test_per_class_accuracies, \"Test Accuracy\")\n"
   ]
  }
 ],
 "metadata": {
  "accelerator": "GPU",
  "colab": {
   "gpuType": "T4",
   "provenance": [],
   "toc_visible": true
  },
  "kernelspec": {
   "display_name": "venv",
   "language": "python",
   "name": "python3"
  },
  "language_info": {
   "codemirror_mode": {
    "name": "ipython",
    "version": 3
   },
   "file_extension": ".py",
   "mimetype": "text/x-python",
   "name": "python",
   "nbconvert_exporter": "python",
   "pygments_lexer": "ipython3",
   "version": "3.12.2"
  }
 },
 "nbformat": 4,
 "nbformat_minor": 0
}
