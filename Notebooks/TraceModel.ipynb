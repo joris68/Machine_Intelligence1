{
 "cells": [
  {
   "cell_type": "markdown",
   "metadata": {},
   "source": [
    "# The Trace Deep Learning Model\n",
    "\n",
    "In this File I am going to explain and derive the Model that is doing fault detection and gets as the input the distributed Tracing data exported as csv files from oxn and transformed (data mined) into numerical features [functionality for that in the RWDGController class].\n",
    "\n",
    "What we mean by fault detection:\n",
    "\n",
    "     \n",
    "\n",
    "\n"
   ]
  },
  {
   "cell_type": "code",
   "execution_count": null,
   "metadata": {},
   "outputs": [],
   "source": [
    "import torch\n",
    "from torch.utils.data import DataLoader\n",
    "from torchvision import datasets\n",
    "from torchvision.transforms import ToTensor\n",
    "import torch.nn as nn\n",
    "import torch.optim as optim\n",
    "from typing import Callable\n",
    "import matplotlib.pyplot as plt\n",
    "\n",
    "class TraceModel(nn.Module):\n",
    "\n",
    "     def __init__(self, loss_function : Callable,   dimensions : list[int], activations : list[Callable]):\n",
    "          super(TraceModel, self).__init__()\n",
    "          self.loss_function = loss_function\n",
    "          # in the input layer there is no activation\n",
    "          assert len(activations) == len(dimensions) -1\n",
    "          self.activations = activations\n",
    "          self.layers = self.init_model_layers(dimensions=dimensions)\n",
    "     \n",
    "     def init_model_layers(self, dimensions : list[int])-> nn.ModuleList:\n",
    "          layers = nn.ModuleList()\n",
    "          for idx in range(1, len(dimensions) -1):\n",
    "               new_layer = nn.Linear(in_features=dimensions[idx -1],out_features=dimensions[idx],  bias=True)\n",
    "               layers.append(new_layer)\n",
    "          return layers\n",
    "\n",
    "     def forward(self, input : nn.Tensor) -> torch.tensor:\n",
    "          for index in range(len(self.layers)):\n",
    "               input = self.layers[index](input)\n",
    "               input = self.activations[index](input)\n",
    "          return input\n",
    "\n",
    "my_trace_model = TraceModel(nn.CrossEntropy, [196, 1500, 1500, 1500, 15], [nn.RelU, nn.ReLU])"
   ]
  }
 ],
 "metadata": {
  "kernelspec": {
   "display_name": "venv",
   "language": "python",
   "name": "python3"
  },
  "language_info": {
   "name": "python",
   "version": "3.12.2"
  }
 },
 "nbformat": 4,
 "nbformat_minor": 2
}
