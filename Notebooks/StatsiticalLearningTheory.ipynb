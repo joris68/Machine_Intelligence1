{
 "cells": [
  {
   "cell_type": "markdown",
   "metadata": {},
   "source": [
    "# Statistical Learning Theory\n",
    "\n",
    "# Linear Seperability\n",
    "\n",
    "     $${(x) ,  y}$$\n",
    "\n"
   ]
  }
 ],
 "metadata": {
  "language_info": {
   "name": "python"
  }
 },
 "nbformat": 4,
 "nbformat_minor": 2
}
