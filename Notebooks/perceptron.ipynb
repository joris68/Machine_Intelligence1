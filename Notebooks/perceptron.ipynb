{
 "cells": [
  {
   "cell_type": "markdown",
   "metadata": {},
   "source": [
    "## The Perceptron for linear classification\n",
    "\n",
    "First a short note on linearity (because I has to struggle with this a lot):\n",
    "\n",
    "**A function is considered linear if it satisfies two main properties**:\n",
    "\n",
    "Additivity: $f(x,y) = f(x) + f(y)$\n",
    "Homogenity: $f(a * x) = a * f(x)$\n",
    "\n",
    "These are the exact definition how a linear map between two vector spaces is defined.\n",
    "Maybe that's why it is called a LINEAR map.\n",
    "\n",
    "**Linear Transformations (Linear Maps)**:\n",
    "\n",
    "For Example $f: \\mathbb{R}^N \\to \\mathbb{R}, \\quad f(x_1, x_2, \\dots, x_N) = y$\n",
    "\n",
    "From 3Blue1Brown: \"If you take a line of evenly spaced dots from the input space and perform a linear transformation on that line\n",
    "the output on the Number line (output space) are still evenly spaced. If this is not the case the transformation is non-linear.\"\n",
    "\n",
    "More formally above stated characteristics hold.\n",
    "\n",
    "So generally speaking a linear transformation \"preserves the structure of the Vector Space\" (A Programmers Introduction to Mathematics, Jeremy Kun)\n",
    "\n",
    "# Now let's go to the perceptron algorithm:\n",
    "\n",
    "We want to find a function (linear map!!!) so we can devide the Input space (the data) into two halfspaces because it is a binary classification.\n",
    "\n",
    "**Half-Spaces** (definition taken from Wikipedia):\n",
    "More generally, a half-space is either of the two parts into which a hyperplane divides an affine space. That is, the points that are not incident to the hyperplane are partitioned into two convex sets (i.e., half-spaces), such that any subspace connecting a point in one set to a point in the other must intersect the hyperplane.\n",
    "\n",
    "To vizualize a convex set:\n",
    "\n",
    "<img src=\"images/Convex_Set.png\" alt=\"Convex Set\" width=\"300\"/>\n",
    "\n",
    "\n",
    "Overview of the perceptron:\n",
    "\n",
    "<img src=\"images/perceptron.png\" alt=\"Convex Set\" width=\"700\"/>\n",
    "\n",
    "\n",
    "The goal here is to learn a 1 by N+1  matrix to that performs a linear transformation of the input vector $\\mathbb{R}^N$ to the correct halfspace that gets defined by the \n",
    "parameters (w, b). \n",
    "\n",
    "For a more \"functual\" definition out algorithm wants to find a function y that transforms a vector onto ${-1,1}$\n",
    "where f is the nonlinear activation function phi is the input vector and w our matrix (Definition taken from Bishop):\n",
    "$$\n",
    "y(x) = f(w^T \\varphi(x))\n",
    "$$\n"
   ]
  },
  {
   "cell_type": "code",
   "execution_count": 8,
   "metadata": {},
   "outputs": [
    {
     "name": "stdout",
     "output_type": "stream",
     "text": [
      "[(1, 1), (2, 2), (3, 3), (1, 1.5), (3, 1), (7, 8), (8, 7), (9, 9), (8, 8), (7, 7)]\n"
     ]
    }
   ],
   "source": [
    "# lets define some data points these datapoints will come from R^2\n",
    "x = [1, 2, 3, 1, 3,   7,8, 9, 8, 7]\n",
    "y = [1,2, 3, 1.5, 1,   8, 7, 9, 8, 7]\n",
    "\n",
    "data = list(zip(x, y))\n",
    "print(data)"
   ]
  },
  {
   "cell_type": "code",
   "execution_count": 9,
   "metadata": {},
   "outputs": [
    {
     "data": {
      "image/png": "[encoded data removed]",
      "text/plain": [
       "<Figure size 800x600 with 1 Axes>"
      ]
     },
     "metadata": {},
     "output_type": "display_data"
    }
   ],
   "source": [
    "# lets vizualize the data\n",
    "import matplotlib.pyplot as plt\n",
    "\n",
    "# Create a scatter plot\n",
    "plt.figure(figsize=(8, 6))\n",
    "plt.scatter(x, y, color='blue', s=100, alpha=0.7, edgecolors='black')\n",
    "\n",
    "# Add titles and labels\n",
    "plt.title('Two Dimensional Vector Space', fontsize=16)\n",
    "plt.xlabel('X-axis', fontsize=14)\n",
    "plt.ylabel('Y-axis', fontsize=14)\n",
    "\n",
    "# Show the plot\n",
    "plt.show()\n"
   ]
  },
  {
   "cell_type": "markdown",
   "metadata": {},
   "source": [
    "We can see that this is clearly linearly seperable. Hence we can find a function that devides the Input space into two convex sets.\n",
    "Now let's actually write the algorithm:"
   ]
  },
  {
   "cell_type": "code",
   "execution_count": 10,
   "metadata": {},
   "outputs": [
    {
     "name": "stdout",
     "output_type": "stream",
     "text": [
      "[[1, 1, -1], [2, 2, -1], [3, 3, -1], [1, 1.5, -1], [3, 1, -1], [7, 8, 1], [8, 7, 1], [9, 9, 1], [8, 8, 1], [7, 7, 1]]\n"
     ]
    }
   ],
   "source": [
    "# perceptron algorithm after Rosenblatt (1958)\n",
    "\n",
    "# labeling of the data because it is a SUPERVISED Algorithm\n",
    "labeled_data = []\n",
    "for idx, (x, y) in enumerate(data):\n",
    "     if x + y > 10:\n",
    "          labeled_data.append([x, y, 1])\n",
    "     else:\n",
    "          labeled_data.append( [x, y, -1])\n",
    "     \n",
    "\n",
    "print(labeled_data)"
   ]
  },
  {
   "cell_type": "markdown",
   "metadata": {},
   "source": [
    "we are gonna now write the following Algorithm:\n",
    "\n",
    "<img src=\"images/Algorithm.png\" alt=\"Convex Set\" width=\"600\"/>\n",
    "\n",
    "The goal of this algorithm is to find a vector (one dimensional Matrix) w such that $$W^\\top \\phi(x_n) > 0$$ for tuples in Class one\n",
    "and $$W^\\top \\phi(x_n) < 0$$ in tuples for Class Two. We will denote these two classes as 1 and -1.\n",
    "\n",
    "Now for both classes: $$W^\\top \\phi(x_n) t_n > 0$$\n",
    "\n",
    "We define the Perception Criterion as :\n",
    "\n",
    "$$E_P(w) = - \\sum_{n \\in M} w^\\top \\phi_n t_n$$\n",
    "\n",
    "\n",
    "\n",
    "\n",
    "\n"
   ]
  },
  {
   "cell_type": "code",
   "execution_count": 1,
   "metadata": {},
   "outputs": [
    {
     "name": "stdout",
     "output_type": "stream",
     "text": [
      "Starting Perception Algorithm with parameters:  [1, 1] and  learning rate: 0.2\n"
     ]
    },
    {
     "ename": "NameError",
     "evalue": "name 'labeled_data' is not defined",
     "output_type": "error",
     "traceback": [
      "\u001b[1;31m---------------------------------------------------------------------------\u001b[0m",
      "\u001b[1;31mNameError\u001b[0m                                 Traceback (most recent call last)",
      "Cell \u001b[1;32mIn[1], line 54\u001b[0m\n\u001b[0;32m     47\u001b[0m           \u001b[38;5;28mprint\u001b[39m(\u001b[38;5;124mf\u001b[39m\u001b[38;5;124m\"\u001b[39m\u001b[38;5;124mAfter \u001b[39m\u001b[38;5;132;01m{\u001b[39;00miteration\u001b[38;5;132;01m}\u001b[39;00m\u001b[38;5;124m we have \u001b[39m\u001b[38;5;132;01m{\u001b[39;00mcorrectly_classified\u001b[38;5;132;01m}\u001b[39;00m\u001b[38;5;124m correctly classified from \u001b[39m\u001b[38;5;132;01m{\u001b[39;00mnumber_of_tuples\u001b[38;5;132;01m}\u001b[39;00m\u001b[38;5;124m datapoints\u001b[39m\u001b[38;5;124m\"\u001b[39m)\n\u001b[0;32m     49\u001b[0m      \u001b[38;5;28;01mreturn\u001b[39;00m parameters\n\u001b[1;32m---> 54\u001b[0m \u001b[43mperceptron_algorithm\u001b[49m\u001b[43m(\u001b[49m\u001b[38;5;241;43m0.2\u001b[39;49m\u001b[43m,\u001b[49m\u001b[43m \u001b[49m\u001b[43m[\u001b[49m\u001b[43m \u001b[49m\u001b[38;5;241;43m1\u001b[39;49m\u001b[43m,\u001b[49m\u001b[38;5;241;43m1\u001b[39;49m\u001b[43m]\u001b[49m\u001b[43m)\u001b[49m\n",
      "Cell \u001b[1;32mIn[1], line 29\u001b[0m, in \u001b[0;36mperceptron_algorithm\u001b[1;34m(learning_rate, start_vector)\u001b[0m\n\u001b[0;32m     26\u001b[0m \u001b[38;5;28;01mdef\u001b[39;00m \u001b[38;5;21mperceptron_algorithm\u001b[39m(learning_rate, start_vector : \u001b[38;5;28mlist\u001b[39m)\u001b[38;5;241m-\u001b[39m\u001b[38;5;241m>\u001b[39m \u001b[38;5;28mlist\u001b[39m[\u001b[38;5;28mfloat\u001b[39m]:\n\u001b[0;32m     27\u001b[0m      \u001b[38;5;28mprint\u001b[39m(\u001b[38;5;124mf\u001b[39m\u001b[38;5;124m\"\u001b[39m\u001b[38;5;124mStarting Perception Algorithm with parameters:  \u001b[39m\u001b[38;5;132;01m{\u001b[39;00mstart_vector\u001b[38;5;132;01m}\u001b[39;00m\u001b[38;5;124m and  learning rate: \u001b[39m\u001b[38;5;132;01m{\u001b[39;00mlearning_rate\u001b[38;5;132;01m}\u001b[39;00m\u001b[38;5;124m\"\u001b[39m)\n\u001b[1;32m---> 29\u001b[0m      number_of_tuples \u001b[38;5;241m=\u001b[39m \u001b[38;5;28mlen\u001b[39m(\u001b[43mlabeled_data\u001b[49m)\n\u001b[0;32m     30\u001b[0m      correctly_classified \u001b[38;5;241m=\u001b[39m \u001b[38;5;241m0\u001b[39m\n\u001b[0;32m     31\u001b[0m      iteration \u001b[38;5;241m=\u001b[39m \u001b[38;5;241m0\u001b[39m\n",
      "\u001b[1;31mNameError\u001b[0m: name 'labeled_data' is not defined"
     ]
    }
   ],
   "source": [
    "\n",
    "def activation(input) -> int:\n",
    "     if input >= 0:\n",
    "          return 1\n",
    "     else:\n",
    "          return -1\n",
    "\n",
    "# this performs the linear transformation for the data given the Linear map and trandform it (numpy.dot() ) is the common interface for this)\n",
    "def classify(parameters, data) -> int:\n",
    "     linear_combination = 0\n",
    "     for x in range( len(parameters)):\n",
    "          linear_combination += parameters[x] * data[x]\n",
    "     \n",
    "     # adding bias on top\n",
    "     #linear_combination = linear_combination + parameters[0]\n",
    "     return activation(linear_combination)\n",
    "        \n",
    "\n",
    "def gradient_descent(learning_rate, data, tn, old_params):\n",
    "     new_params = []\n",
    "\n",
    "     for x in range(len(data)):\n",
    "          new_params.append(old_params[x] + (learning_rate * data[x] * tn))\n",
    "     return new_params\n",
    "\n",
    "\n",
    "def perceptron_algorithm(learning_rate, start_vector : list)-> list[float]:\n",
    "     print(f\"Starting Perception Algorithm with parameters:  {start_vector} and  learning rate: {learning_rate}\")\n",
    "\n",
    "     number_of_tuples = len(labeled_data)\n",
    "     correctly_classified = 0\n",
    "     iteration = 0\n",
    "     parameters = start_vector.copy()\n",
    "\n",
    "     while correctly_classified < number_of_tuples:\n",
    "          correctly_classified = 0\n",
    "          for index, (x1, x2, y) in enumerate(labeled_data):\n",
    "               # we put an\n",
    "               class_prediction = classify(parameters, [0, x1,x2])\n",
    "               if class_prediction == y:\n",
    "                    # correctly classified\n",
    "                    correctly_classified +=1\n",
    "                    continue\n",
    "               else: # perform stochastic gradient decent\n",
    "                    parameters = gradient_descent(learning_rate, [ x1, x2], y)\n",
    "                    # go into the next interation directly\n",
    "          iteration += 1\n",
    "          print(f\"After {iteration} we have {correctly_classified} correctly classified from {number_of_tuples} datapoints\")\n",
    "     \n",
    "     return parameters\n",
    "\n",
    "\n",
    "\n",
    "\n",
    "perceptron_algorithm(0.2, [ 1,1])\n",
    "               \n",
    "\n",
    "\n",
    "     \n",
    "\n",
    "\n",
    "\n"
   ]
  }
 ],
 "metadata": {
  "kernelspec": {
   "display_name": "venv",
   "language": "python",
   "name": "python3"
  },
  "language_info": {
   "codemirror_mode": {
    "name": "ipython",
    "version": 3
   },
   "file_extension": ".py",
   "mimetype": "text/x-python",
   "name": "python",
   "nbconvert_exporter": "python",
   "pygments_lexer": "ipython3",
   "version": "3.12.2"
  }
 },
 "nbformat": 4,
 "nbformat_minor": 2
}
