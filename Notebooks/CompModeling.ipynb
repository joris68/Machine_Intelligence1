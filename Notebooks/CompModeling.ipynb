{
 "cells": [
  {
   "cell_type": "code",
   "execution_count": null,
   "metadata": {},
   "outputs": [
    {
     "name": "stdout",
     "output_type": "stream",
     "text": [
      "[3, 4.4, 4.736000000000001, 4.8749696, 4.939048060092416, 4.969895543944057, 4.985038399799471, 4.992541584847792, 4.996276355219554, 4.9981395641628215]\n"
     ]
    }
   ],
   "source": [
    "N = 10\n",
    "x_zero = 3\n",
    "beta = 0.5\n",
    "steps = [0] * 10 \n",
    "steps[0] = x_zero\n",
    "\n",
    "for x in range(1, N):\n",
    "     first_term = pow(steps[x-1], 2) /10\n",
    "     second_term = beta * (N - steps [x-1])\n",
    "     steps[x] = first_term + second_term\n",
    "\n",
    "print(steps)\n"
   ]
  },
  {
   "cell_type": "code",
   "execution_count": 9,
   "metadata": {},
   "outputs": [
    {
     "name": "stdout",
     "output_type": "stream",
     "text": [
      "[2, 4, 4, 4, 4, 4, 4, 4, 4, 4]\n"
     ]
    }
   ],
   "source": [
    "\n",
    "import math\n",
    "# version 2\n",
    "N = 10\n",
    "x_zero = 2\n",
    "beta = 0.5\n",
    "steps = [0] * N\n",
    "steps[0] = x_zero\n",
    "lazyness_constant = 0.9\n",
    "\n",
    "for x in range(1, N):\n",
    "     first_term = math.floor((pow(steps[x-1], 2) /N) * lazyness_constant)\n",
    "     second_term = math.floor(beta * (N - steps [x-1]))\n",
    "     steps[x] = first_term + second_term\n",
    "\n",
    "print(steps)"
   ]
  },
  {
   "cell_type": "code",
   "execution_count": null,
   "metadata": {},
   "outputs": [],
   "source": []
  }
 ],
 "metadata": {
  "kernelspec": {
   "display_name": "venv",
   "language": "python",
   "name": "python3"
  },
  "language_info": {
   "codemirror_mode": {
    "name": "ipython",
    "version": 3
   },
   "file_extension": ".py",
   "mimetype": "text/x-python",
   "name": "python",
   "nbconvert_exporter": "python",
   "pygments_lexer": "ipython3",
   "version": "3.12.2"
  }
 },
 "nbformat": 4,
 "nbformat_minor": 2
}
